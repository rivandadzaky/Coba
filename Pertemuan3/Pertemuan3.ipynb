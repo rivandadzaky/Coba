{
  "nbformat": 4,
  "nbformat_minor": 0,
  "metadata": {
    "colab": {
      "provenance": []
    },
    "kernelspec": {
      "name": "python3",
      "display_name": "Python 3"
    },
    "language_info": {
      "name": "python"
    }
  },
  "cells": [
    {
      "cell_type": "code",
      "execution_count": 13,
      "metadata": {
        "colab": {
          "base_uri": "https://localhost:8080/"
        },
        "id": "nZR-6NZvQuZx",
        "outputId": "54b3a65e-b51f-42f6-f214-1df0db47da62"
      },
      "outputs": [
        {
          "output_type": "stream",
          "name": "stdout",
          "text": [
            "\n",
            "\n",
            "[[0.0 0.0 1.0 -0.1435168817394798 -1.1996846865850523]\n",
            " [0.0 1.0 0.0 0.05443743790118133 -0.12534019113575173]\n",
            " [1.0 0.0 0.0 1.004618172176356 0.3043976070439685]\n",
            " [0.0 0.0 1.0 -1.1332884799427871 1.5219880352198425]\n",
            " [0.0 0.0 1.0 -1.6083788470803746 -1.486176552038199]\n",
            " [1.0 0.0 0.0 1.123390763960753 0.7341354052236887]\n",
            " [0.0 1.0 0.0 1.24216335574515 0.9490043043135489]\n",
            " [1.0 0.0 0.0 -0.5394255210208029 -0.6983239220420454]]\n",
            "[[0.0 1.0 0.0 30.0 55000.0]\n",
            " [1.0 0.0 0.0 37.0 67000.0]]\n"
          ]
        }
      ],
      "source": [
        "import numpy as np\n",
        "import matplotlib.pyplot as plt\n",
        "import sklearn\n",
        "import pandas as pd\n",
        "from sklearn.impute import SimpleImputer\n",
        "from sklearn.compose import ColumnTransformer\n",
        "from sklearn.preprocessing import OneHotEncoder\n",
        "from sklearn.preprocessing import LabelEncoder\n",
        "from sklearn.model_selection import train_test_split\n",
        "from sklearn.preprocessing import StandardScaler\n",
        "\n",
        "dataset = pd.read_csv(\"Data.csv\")\n",
        "x = dataset.iloc[:, :-2].values\n",
        "y = dataset.iloc[:, [3, 4]]\n",
        "imputer = SimpleImputer(missing_values=np.nan, strategy='mean')\n",
        "imputer.fit(x[:, 1:3])\n",
        "x[:, 1:3] = imputer.transform(x[:, 1:3])\n",
        "\n",
        "\n",
        "ct = ColumnTransformer(\n",
        "    transformers=[('encoder', OneHotEncoder(), [0])], remainder='passthrough')\n",
        "x = np.array(ct.fit_transform(x))\n",
        "le = LabelEncoder()\n",
        "y = y.apply(LabelEncoder().fit_transform)\n",
        "x_train, x_test, y_train, y_test = train_test_split(\n",
        "    x, y, test_size=0.2, random_state=1)\n",
        "sc = StandardScaler()\n",
        "x_train[:, 3:] = sc.fit_transform(x_train[:, 3:])\n",
        "x[:, 3:] = sc.transform(x[:, 3:])\n",
        "print(\"\\n\")\n",
        "print(x_train)\n",
        "print(x_test)"
      ]
    }
  ]
}